{
 "cells": [
  {
   "cell_type": "markdown",
   "id": "38cc9557",
   "metadata": {},
   "source": [
    "# 30 Days of Pandas Challenge\n",
    "\n",
    "This is a collection of solutions to the [30 Days of Pandas](https://leetcode.com/studyplan/30-days-of-pandas/) challenge on Leetcode. The solutions are organized by how they appear in the challenge. Multiple solutions to the same problem may exist, as I sometimes submit different solutions for the same problem. The solutions are written in Python and use the Pandas library."
   ]
  },
  {
   "cell_type": "code",
   "execution_count": 2,
   "id": "f9a47811",
   "metadata": {},
   "outputs": [],
   "source": [
    "import pandas as pd"
   ]
  },
  {
   "cell_type": "markdown",
   "id": "306fac2f",
   "metadata": {},
   "source": [
    "## Data Filtering"
   ]
  },
  {
   "cell_type": "markdown",
   "id": "325ced3d",
   "metadata": {},
   "source": [
    "### 595 Big Countries"
   ]
  },
  {
   "cell_type": "code",
   "execution_count": 3,
   "id": "bd2497a9",
   "metadata": {},
   "outputs": [],
   "source": [
    "def big_countries(w: pd.DataFrame) -> pd.DataFrame:\n",
    "    return w[(w['area'] >= 3_000_000) | (w['population'] >= 25_000_000)][['name', 'population', 'area']]"
   ]
  },
  {
   "cell_type": "markdown",
   "id": "13abc8b5",
   "metadata": {},
   "source": [
    "### 1757 Recyclable and Low Fat Products"
   ]
  },
  {
   "cell_type": "code",
   "execution_count": 4,
   "id": "cb373100",
   "metadata": {},
   "outputs": [],
   "source": [
    "def find_products(p: pd.DataFrame) -> pd.DataFrame:\n",
    "    return p[(p['low_fats'] == 'Y') & (p['recyclable'] == 'Y')][['product_id']]"
   ]
  },
  {
   "cell_type": "markdown",
   "id": "9233e569",
   "metadata": {},
   "source": [
    "### 183 Customers Who Never Order"
   ]
  },
  {
   "cell_type": "code",
   "execution_count": 5,
   "id": "5fa744d0",
   "metadata": {},
   "outputs": [],
   "source": [
    "# - Using `isin` to filter customers who have placed orders with `~` to negate the condition\n",
    "# - Use `rename` to change column names, and `inplace` to modify the DataFrame directly without reassigning it\n",
    "\n",
    "def find_customers(customers: pd.DataFrame, orders: pd.DataFrame) -> pd.DataFrame:\n",
    "    customers = customers[~customers['id'].isin(orders['customerId'])][['name']]\n",
    "    customers.rename(columns={'name': 'Customers'}, inplace=True)\n",
    "    return customers"
   ]
  },
  {
   "cell_type": "markdown",
   "id": "7f512a93",
   "metadata": {},
   "source": [
    "### 1148 Article Views I"
   ]
  },
  {
   "cell_type": "code",
   "execution_count": 6,
   "id": "bf759546",
   "metadata": {},
   "outputs": [],
   "source": [
    "# - Filtering, renaming and dropping duplicates with sorting\n",
    "\n",
    "def article_views(views: pd.DataFrame) -> pd.DataFrame:\n",
    "    views = views[views['viewer_id'] == views['author_id']][['author_id']]\n",
    "    views = views.rename(columns={'author_id': 'id'})\n",
    "    return views.drop_duplicates().sort_values(by='id')"
   ]
  },
  {
   "cell_type": "markdown",
   "id": "a5f5da7c",
   "metadata": {},
   "source": [
    "## String Methods"
   ]
  },
  {
   "cell_type": "markdown",
   "id": "64584895",
   "metadata": {},
   "source": [
    "### 1683 Invalid Tweets"
   ]
  },
  {
   "cell_type": "code",
   "execution_count": 7,
   "id": "688d339d",
   "metadata": {},
   "outputs": [],
   "source": [
    "def invalid_tweets(tweets: pd.DataFrame) -> pd.DataFrame:\n",
    "    return tweets[tweets['content'].str.len() > 15][['tweet_id']]"
   ]
  },
  {
   "cell_type": "markdown",
   "id": "3b6ded28",
   "metadata": {},
   "source": [
    "### 1873 Calculate Special Bonus (! a)"
   ]
  },
  {
   "cell_type": "code",
   "execution_count": 8,
   "id": "591be864",
   "metadata": {},
   "outputs": [],
   "source": [
    "# Test case\n",
    "employees = pd.DataFrame({\n",
    "    'employee_id': [1, 2, 3, 4, 5],\n",
    "    'name': ['Alice', 'Bob', 'Charlie', 'David', 'Eve'],\n",
    "    'salary': [5000, 6000, 7000, 8000, 9000]\n",
    "})"
   ]
  },
  {
   "cell_type": "code",
   "execution_count": 9,
   "id": "a2763554",
   "metadata": {},
   "outputs": [
    {
     "data": {
      "text/html": [
       "<div>\n",
       "<style scoped>\n",
       "    .dataframe tbody tr th:only-of-type {\n",
       "        vertical-align: middle;\n",
       "    }\n",
       "\n",
       "    .dataframe tbody tr th {\n",
       "        vertical-align: top;\n",
       "    }\n",
       "\n",
       "    .dataframe thead th {\n",
       "        text-align: right;\n",
       "    }\n",
       "</style>\n",
       "<table border=\"1\" class=\"dataframe\">\n",
       "  <thead>\n",
       "    <tr style=\"text-align: right;\">\n",
       "      <th></th>\n",
       "      <th>employee_id</th>\n",
       "      <th>bonus</th>\n",
       "    </tr>\n",
       "  </thead>\n",
       "  <tbody>\n",
       "    <tr>\n",
       "      <th>0</th>\n",
       "      <td>1</td>\n",
       "      <td>5000</td>\n",
       "    </tr>\n",
       "    <tr>\n",
       "      <th>1</th>\n",
       "      <td>2</td>\n",
       "      <td>0</td>\n",
       "    </tr>\n",
       "    <tr>\n",
       "      <th>2</th>\n",
       "      <td>3</td>\n",
       "      <td>7000</td>\n",
       "    </tr>\n",
       "    <tr>\n",
       "      <th>3</th>\n",
       "      <td>4</td>\n",
       "      <td>0</td>\n",
       "    </tr>\n",
       "    <tr>\n",
       "      <th>4</th>\n",
       "      <td>5</td>\n",
       "      <td>9000</td>\n",
       "    </tr>\n",
       "  </tbody>\n",
       "</table>\n",
       "</div>"
      ],
      "text/plain": [
       "   employee_id  bonus\n",
       "0            1   5000\n",
       "1            2      0\n",
       "2            3   7000\n",
       "3            4      0\n",
       "4            5   9000"
      ]
     },
     "execution_count": 9,
     "metadata": {},
     "output_type": "execute_result"
    }
   ],
   "source": [
    "# Approach 1: Using `apply` with a lambda function to calculate the bonus\n",
    "\n",
    "def calculate_special_bonus(employees: pd.DataFrame) -> pd.DataFrame:\n",
    "    employees['bonus'] = employees.apply(\n",
    "        lambda row: row['salary'] if (row['employee_id'] % 2 == 1 and not row['name'].startswith('M')) else 0,\n",
    "        axis=1\n",
    "    )\n",
    "    return employees[['employee_id', 'bonus']].sort_values('employee_id')\n",
    "\n",
    "result_1 = calculate_special_bonus(employees)\n",
    "result_1"
   ]
  },
  {
   "cell_type": "code",
   "execution_count": 10,
   "id": "fc1f5161",
   "metadata": {},
   "outputs": [
    {
     "data": {
      "text/html": [
       "<div>\n",
       "<style scoped>\n",
       "    .dataframe tbody tr th:only-of-type {\n",
       "        vertical-align: middle;\n",
       "    }\n",
       "\n",
       "    .dataframe tbody tr th {\n",
       "        vertical-align: top;\n",
       "    }\n",
       "\n",
       "    .dataframe thead th {\n",
       "        text-align: right;\n",
       "    }\n",
       "</style>\n",
       "<table border=\"1\" class=\"dataframe\">\n",
       "  <thead>\n",
       "    <tr style=\"text-align: right;\">\n",
       "      <th></th>\n",
       "      <th>employee_id</th>\n",
       "      <th>bonus</th>\n",
       "    </tr>\n",
       "  </thead>\n",
       "  <tbody>\n",
       "    <tr>\n",
       "      <th>0</th>\n",
       "      <td>1</td>\n",
       "      <td>5000</td>\n",
       "    </tr>\n",
       "    <tr>\n",
       "      <th>1</th>\n",
       "      <td>2</td>\n",
       "      <td>0</td>\n",
       "    </tr>\n",
       "    <tr>\n",
       "      <th>2</th>\n",
       "      <td>3</td>\n",
       "      <td>7000</td>\n",
       "    </tr>\n",
       "    <tr>\n",
       "      <th>3</th>\n",
       "      <td>4</td>\n",
       "      <td>0</td>\n",
       "    </tr>\n",
       "    <tr>\n",
       "      <th>4</th>\n",
       "      <td>5</td>\n",
       "      <td>9000</td>\n",
       "    </tr>\n",
       "  </tbody>\n",
       "</table>\n",
       "</div>"
      ],
      "text/plain": [
       "   employee_id  bonus\n",
       "0            1   5000\n",
       "1            2      0\n",
       "2            3   7000\n",
       "3            4      0\n",
       "4            5   9000"
      ]
     },
     "execution_count": 10,
     "metadata": {},
     "output_type": "execute_result"
    }
   ],
   "source": [
    "# Approach 2: Using `loc` for index locating with boolean indexing\n",
    "\n",
    "def calculate_special_bonus(employees: pd.DataFrame) -> pd.DataFrame:\n",
    "    employees['bonus'] = 0 # Intialize the 'bonus' column with 0 (otherwise we would get NaN values)\n",
    "    employees.loc[ # Locate the rows with conditions satisfies for the 'bonus' column\n",
    "        (employees['employee_id'] % 2 == 1) & \n",
    "        (~employees['name'].str.startswith('M')), \n",
    "        'bonus'\n",
    "    ] = employees['salary'] # Assign the salary to the 'bonus' column where conditions are met\n",
    "    return employees[['employee_id', 'bonus']].sort_values('employee_id')\n",
    "\n",
    "result_2 = calculate_special_bonus(employees)\n",
    "result_2"
   ]
  },
  {
   "cell_type": "markdown",
   "id": "e79fc0c1",
   "metadata": {},
   "source": [
    "### 1667 Fix Names in a Table (! a)"
   ]
  },
  {
   "cell_type": "code",
   "execution_count": 11,
   "id": "82565037",
   "metadata": {},
   "outputs": [],
   "source": [
    "# Approach 1: Own attempt with row-wise `apply`\n",
    "\n",
    "def fix_names(users: pd.DataFrame) -> pd.DataFrame:\n",
    "    users['name'] = users.apply(\n",
    "        lambda row: row['name'][0].upper() + row['name'][1:].lower(), axis=1\n",
    "    )\n",
    "    return users.sort_values(by='user_id')"
   ]
  },
  {
   "cell_type": "code",
   "execution_count": 12,
   "id": "40e393ef",
   "metadata": {},
   "outputs": [],
   "source": [
    "# Approach 2: Using `capitalize` method for strings and not bothering with `apply`\n",
    "# - In this case, we can simply re-assign the `name` column with the capitalized version of each name\n",
    "# - `apply` would be more suited if transformations involved e.g. filtering or complex logic\n",
    "\n",
    "def fix_names(users: pd.DataFrame) -> pd.DataFrame:\n",
    "    users['name'] = users['name'].str.capitalize()\n",
    "    return users.sort_values(by='user_id')"
   ]
  },
  {
   "cell_type": "markdown",
   "id": "8a887d24",
   "metadata": {},
   "source": [
    "### 1517 Find Users With Valid E-Mails (u)"
   ]
  },
  {
   "cell_type": "code",
   "execution_count": 13,
   "id": "3717a27e",
   "metadata": {},
   "outputs": [],
   "source": [
    "def valid_emails(users: pd.DataFrame) -> pd.DataFrame:\n",
    "    mask = r'^[a-zA-Z][a-zA-Z0-9_\\-\\.]*@leetcode\\.com$'\n",
    "    users = users[users['mail'].str.match(mask)]\n",
    "    return users"
   ]
  },
  {
   "cell_type": "markdown",
   "id": "1a846cf8",
   "metadata": {},
   "source": [
    "### 1527 Patients With a Condition"
   ]
  },
  {
   "cell_type": "code",
   "execution_count": 14,
   "id": "fc1b70a0",
   "metadata": {},
   "outputs": [],
   "source": [
    "# Test case\n",
    "patients = pd.DataFrame({\n",
    "    'patient_id': [1, 2, 3, 4, 5],\n",
    "    'conditions': ['NONE DIAB1', 'DIAB2', 'DIAB1', 'HYPER', 'DIAB1']\n",
    "})"
   ]
  },
  {
   "cell_type": "code",
   "execution_count": 15,
   "id": "3d452019",
   "metadata": {},
   "outputs": [
    {
     "name": "stderr",
     "output_type": "stream",
     "text": [
      "C:\\Users\\murisph\\AppData\\Local\\Temp\\ipykernel_2124\\3644232046.py:6: UserWarning: This pattern is interpreted as a regular expression, and has match groups. To actually get the groups, use str.extract.\n",
      "  patients = patients[patients['conditions'].str.contains(mask)]\n"
     ]
    },
    {
     "data": {
      "text/html": [
       "<div>\n",
       "<style scoped>\n",
       "    .dataframe tbody tr th:only-of-type {\n",
       "        vertical-align: middle;\n",
       "    }\n",
       "\n",
       "    .dataframe tbody tr th {\n",
       "        vertical-align: top;\n",
       "    }\n",
       "\n",
       "    .dataframe thead th {\n",
       "        text-align: right;\n",
       "    }\n",
       "</style>\n",
       "<table border=\"1\" class=\"dataframe\">\n",
       "  <thead>\n",
       "    <tr style=\"text-align: right;\">\n",
       "      <th></th>\n",
       "      <th>patient_id</th>\n",
       "      <th>conditions</th>\n",
       "    </tr>\n",
       "  </thead>\n",
       "  <tbody>\n",
       "    <tr>\n",
       "      <th>0</th>\n",
       "      <td>1</td>\n",
       "      <td>NONE DIAB1</td>\n",
       "    </tr>\n",
       "    <tr>\n",
       "      <th>2</th>\n",
       "      <td>3</td>\n",
       "      <td>DIAB1</td>\n",
       "    </tr>\n",
       "    <tr>\n",
       "      <th>4</th>\n",
       "      <td>5</td>\n",
       "      <td>DIAB1</td>\n",
       "    </tr>\n",
       "  </tbody>\n",
       "</table>\n",
       "</div>"
      ],
      "text/plain": [
       "   patient_id  conditions\n",
       "0           1  NONE DIAB1\n",
       "2           3       DIAB1\n",
       "4           5       DIAB1"
      ]
     },
     "execution_count": 15,
     "metadata": {},
     "output_type": "execute_result"
    }
   ],
   "source": [
    "# Using `contains` instead of `match` for searching over a string  (match is only for exact matches at the start of the string)\n",
    "# In regex, `^` is equivalent to Python's `startswith`, and `$` is equivalent to `endswith`\n",
    "\n",
    "def find_patients(patients: pd.DataFrame) -> pd.DataFrame:\n",
    "    mask = r'(^|\\s)DIAB1'\n",
    "    patients = patients[patients['conditions'].str.contains(mask)]\n",
    "    return patients\n",
    "\n",
    "patients_filtered = find_patients(patients)\n",
    "patients_filtered"
   ]
  },
  {
   "cell_type": "markdown",
   "id": "355121c8",
   "metadata": {},
   "source": [
    "## Data Manipulation"
   ]
  },
  {
   "cell_type": "markdown",
   "id": "448c6f8d",
   "metadata": {},
   "source": [
    "### 177 Nth Highest Salary (!)"
   ]
  },
  {
   "cell_type": "code",
   "execution_count": 16,
   "id": "8a502fb2",
   "metadata": {},
   "outputs": [],
   "source": [
    "# Test case\n",
    "'''\n",
    "| id | salary |\n",
    "| -- | ------ |\n",
    "| 1  | 100    |\n",
    "| 2  | 200    |\n",
    "| 3  | 300    |\n",
    "'''\n",
    "employee = pd.DataFrame({\n",
    "    'id': [1, 2, 3],\n",
    "    'salary': [100, 200, 300]\n",
    "})\n",
    "argument = 1"
   ]
  },
  {
   "cell_type": "code",
   "execution_count": 17,
   "id": "b77fd255",
   "metadata": {},
   "outputs": [],
   "source": [
    "# Approach 1: My solution\n",
    "\n",
    "def nth_highest_salary(employee: pd.DataFrame, N: int) -> pd.DataFrame:\n",
    "    result = pd.DataFrame(columns=[f'getNthHighestSalary({N})'])\n",
    "    employee.drop_duplicates(subset='salary', inplace=True)\n",
    "    if len(employee) < N or N <= 0: \n",
    "        result.loc[0] = None\n",
    "        return result\n",
    "    employee.sort_values(by='salary', ascending=False, inplace=True)\n",
    "    result.loc[0] = employee.iloc[N-1]['salary']\n",
    "    return result"
   ]
  },
  {
   "cell_type": "code",
   "execution_count": 18,
   "id": "4e6a036a",
   "metadata": {},
   "outputs": [],
   "source": [
    "# Approach 2: Faster solution with initial filtering and conditions for 'salary', and then create DataFrame\n",
    "\n",
    "def nth_highest_salary(employee: pd.DataFrame, N: int) -> pd.DataFrame:\n",
    "    unique_salaries = employee['salary'].drop_duplicates().sort_values(ascending=False).reset_index(drop=True)\n",
    "\n",
    "    if len(unique_salaries) >= N and N > 0:\n",
    "        nth_salary = unique_salaries.iloc[N-1]\n",
    "    else:\n",
    "        nth_salary = None\n",
    "\n",
    "    return pd.DataFrame({f'getNthHighestSalary({N})': [nth_salary]})\n",
    "\n",
    "\n",
    "result = nth_highest_salary(employee, argument)"
   ]
  },
  {
   "cell_type": "markdown",
   "id": "4ffd4437",
   "metadata": {},
   "source": [
    "### 176 Second Highest Salary (!)"
   ]
  },
  {
   "cell_type": "code",
   "execution_count": 42,
   "id": "2295bc3e",
   "metadata": {},
   "outputs": [],
   "source": [
    "data = [[1, 100], [2, 100], [3, 300]]\n",
    "employee = pd.DataFrame(data, columns=['id', 'salary']).astype({'id':'int64', 'salary':'int64'})"
   ]
  },
  {
   "cell_type": "code",
   "execution_count": null,
   "id": "beded5dc",
   "metadata": {},
   "outputs": [
    {
     "name": "stdout",
     "output_type": "stream",
     "text": [
      "   id  salary\n",
      "0   1     100\n",
      "2   3     300\n"
     ]
    },
    {
     "data": {
      "text/html": [
       "<div>\n",
       "<style scoped>\n",
       "    .dataframe tbody tr th:only-of-type {\n",
       "        vertical-align: middle;\n",
       "    }\n",
       "\n",
       "    .dataframe tbody tr th {\n",
       "        vertical-align: top;\n",
       "    }\n",
       "\n",
       "    .dataframe thead th {\n",
       "        text-align: right;\n",
       "    }\n",
       "</style>\n",
       "<table border=\"1\" class=\"dataframe\">\n",
       "  <thead>\n",
       "    <tr style=\"text-align: right;\">\n",
       "      <th></th>\n",
       "      <th>SecondHighestSalary</th>\n",
       "    </tr>\n",
       "  </thead>\n",
       "  <tbody>\n",
       "    <tr>\n",
       "      <th>0</th>\n",
       "      <td>100</td>\n",
       "    </tr>\n",
       "  </tbody>\n",
       "</table>\n",
       "</div>"
      ],
      "text/plain": [
       "   SecondHighestSalary\n",
       "0                  100"
      ]
     },
     "execution_count": 43,
     "metadata": {},
     "output_type": "execute_result"
    }
   ],
   "source": [
    "# Approach 1: Using sort - O(n log n)\n",
    "\n",
    "def second_highest_salary(employee: pd.DataFrame) -> pd.DataFrame:\n",
    "    employee = employee.drop_duplicates(['salary'])\n",
    "    if len(employee) < 2:\n",
    "        second_highest = None\n",
    "    else:\n",
    "        second_highest = employee['salary'].sort_values(ascending=False).iloc[1]\n",
    "    return pd.DataFrame({'SecondHighestSalary': [second_highest]})\n",
    "\n",
    "second_highest = second_highest_salary(employee)\n",
    "second_highest"
   ]
  },
  {
   "cell_type": "code",
   "execution_count": null,
   "id": "bf1c2b1d",
   "metadata": {},
   "outputs": [
    {
     "data": {
      "text/html": [
       "<div>\n",
       "<style scoped>\n",
       "    .dataframe tbody tr th:only-of-type {\n",
       "        vertical-align: middle;\n",
       "    }\n",
       "\n",
       "    .dataframe tbody tr th {\n",
       "        vertical-align: top;\n",
       "    }\n",
       "\n",
       "    .dataframe thead th {\n",
       "        text-align: right;\n",
       "    }\n",
       "</style>\n",
       "<table border=\"1\" class=\"dataframe\">\n",
       "  <thead>\n",
       "    <tr style=\"text-align: right;\">\n",
       "      <th></th>\n",
       "      <th>SecondHighestSalary</th>\n",
       "    </tr>\n",
       "  </thead>\n",
       "  <tbody>\n",
       "    <tr>\n",
       "      <th>0</th>\n",
       "      <td>100</td>\n",
       "    </tr>\n",
       "  </tbody>\n",
       "</table>\n",
       "</div>"
      ],
      "text/plain": [
       "   SecondHighestSalary\n",
       "0                  100"
      ]
     },
     "execution_count": 51,
     "metadata": {},
     "output_type": "execute_result"
    }
   ],
   "source": [
    "# Approach 2: Using two max() and filtering - O(n)\n",
    "\n",
    "def second_highest_salary(employee: pd.DataFrame) -> pd.DataFrame:\n",
    "    highest = employee['salary'].max()\n",
    "    second_highest = employee[employee['salary'] < highest]['salary'].max()\n",
    "    return pd.DataFrame({'SecondHighestSalary': [second_highest]})\n",
    "\n",
    "second_highest = second_highest_salary(employee)\n",
    "second_highest\n"
   ]
  },
  {
   "cell_type": "markdown",
   "id": "a5b9170c",
   "metadata": {},
   "source": [
    "### 184 Department Highest Salary"
   ]
  },
  {
   "cell_type": "code",
   "execution_count": 105,
   "id": "79c8a448",
   "metadata": {},
   "outputs": [],
   "source": [
    "data = [[1, 'Joe', 70000, 1], [2, 'Jim', 90000, 1], [3, 'Henry', 80000, 2], [4, 'Sam', 60000, 2], [5, 'Max', 90000, 1]]\n",
    "employee = pd.DataFrame(data, columns=['id', 'name', 'salary', 'departmentId']).astype({'id':'Int64', 'name':'object', 'salary':'Int64', 'departmentId':'Int64'})\n",
    "data = [[1, 'IT'], [2, 'Sales']]\n",
    "department = pd.DataFrame(data, columns=['id', 'name']).astype({'id':'Int64', 'name':'object'})"
   ]
  },
  {
   "cell_type": "code",
   "execution_count": null,
   "id": "f6163d3d",
   "metadata": {},
   "outputs": [
    {
     "name": "stdout",
     "output_type": "stream",
     "text": [
      "   id_x name_x  salary  departmentId  id_y name_y\n",
      "0     1    Joe   70000             1     1     IT\n",
      "1     2    Jim   90000             1     1     IT\n",
      "2     3  Henry   80000             2     2  Sales\n",
      "3     4    Sam   60000             2     2  Sales\n",
      "4     5    Max   90000             1     1     IT\n"
     ]
    },
    {
     "data": {
      "text/html": [
       "<div>\n",
       "<style scoped>\n",
       "    .dataframe tbody tr th:only-of-type {\n",
       "        vertical-align: middle;\n",
       "    }\n",
       "\n",
       "    .dataframe tbody tr th {\n",
       "        vertical-align: top;\n",
       "    }\n",
       "\n",
       "    .dataframe thead th {\n",
       "        text-align: right;\n",
       "    }\n",
       "</style>\n",
       "<table border=\"1\" class=\"dataframe\">\n",
       "  <thead>\n",
       "    <tr style=\"text-align: right;\">\n",
       "      <th></th>\n",
       "      <th>Department</th>\n",
       "      <th>Employee</th>\n",
       "      <th>Salary</th>\n",
       "    </tr>\n",
       "  </thead>\n",
       "  <tbody>\n",
       "    <tr>\n",
       "      <th>1</th>\n",
       "      <td>IT</td>\n",
       "      <td>Jim</td>\n",
       "      <td>90000</td>\n",
       "    </tr>\n",
       "    <tr>\n",
       "      <th>2</th>\n",
       "      <td>Sales</td>\n",
       "      <td>Henry</td>\n",
       "      <td>80000</td>\n",
       "    </tr>\n",
       "    <tr>\n",
       "      <th>4</th>\n",
       "      <td>IT</td>\n",
       "      <td>Max</td>\n",
       "      <td>90000</td>\n",
       "    </tr>\n",
       "  </tbody>\n",
       "</table>\n",
       "</div>"
      ],
      "text/plain": [
       "  Department Employee  Salary\n",
       "1         IT      Jim   90000\n",
       "2      Sales    Henry   80000\n",
       "4         IT      Max   90000"
      ]
     },
     "execution_count": 114,
     "metadata": {},
     "output_type": "execute_result"
    }
   ],
   "source": [
    "# Approach 1: Using merge and groupby\n",
    "# - merge() works to combine tables. Requires specifying how to JOIN, and names of columns to join in each table\n",
    "# - groupby() can group e.g. by unique row entries in a column. The result is a groupby object with slightly different rules for data manipulation compared to regular DataFrame objects.\n",
    "\n",
    "def department_highest_salary(employee: pd.DataFrame, department: pd.DataFrame) -> pd.DataFrame:\n",
    "    merged = employee.merge(department, how='left', left_on='departmentId', right_on='id')\n",
    "    grouped = merged.groupby(by='departmentId')\n",
    "    merged_highest = merged[grouped['salary'].transform('max') == merged['salary']]\n",
    "    result = merged_highest[['name_y', 'name_x', 'salary']].rename(\n",
    "        columns={\n",
    "            'name_y': 'Department',\n",
    "            'name_x': 'Employee',\n",
    "            'salary': 'Salary'\n",
    "        }\n",
    "    )\n",
    "    return result\n",
    "    \n",
    "a = department_highest_salary(employee, department)\n",
    "a"
   ]
  },
  {
   "cell_type": "code",
   "execution_count": null,
   "id": "67500049",
   "metadata": {},
   "outputs": [],
   "source": [
    "# "
   ]
  }
 ],
 "metadata": {
  "kernelspec": {
   "display_name": "base",
   "language": "python",
   "name": "python3"
  },
  "language_info": {
   "codemirror_mode": {
    "name": "ipython",
    "version": 3
   },
   "file_extension": ".py",
   "mimetype": "text/x-python",
   "name": "python",
   "nbconvert_exporter": "python",
   "pygments_lexer": "ipython3",
   "version": "3.11.5"
  }
 },
 "nbformat": 4,
 "nbformat_minor": 5
}
